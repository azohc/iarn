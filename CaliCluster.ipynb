{
 "cells": [
  {
   "cell_type": "markdown",
   "metadata": {},
   "source": [
    "\n"
   ]
  },
  {
   "cell_type": "markdown",
   "metadata": {},
   "source": [
    "1. Clustering\n",
    "\n",
    "Usa el conjunto de datos de las viviendas en California que puedes descargar con la función: sklearn.datasets.fetch_california_housing\n",
    "\n",
    "En el conjunto de datos cada fila es un “bloque” que es la mínima unidad geográfica para la cual el censo estadounidense hace públicos los datos (suele tener desde varios cientos a unos pocos miles de habitantes). \n",
    "\n",
    "El objetivo es realizar agrupamientos de los bloques que presenten características similares. No incluyas la latitud y longitud para no agrupar los bloques por su cercanía geográfica, sino por sus características. Tampoco incluyas la variable target del dataset que es la mediana del precio de las viviendas en el bloque en cuestión. "
   ]
  },
  {
   "cell_type": "code",
   "execution_count": 44,
   "metadata": {},
   "outputs": [
    {
     "name": "stdout",
     "output_type": "stream",
     "text": [
      ".. _california_housing_dataset:\n",
      "\n",
      "California Housing dataset\n",
      "--------------------------\n",
      "\n",
      "**Data Set Characteristics:**\n",
      "\n",
      "    :Number of Instances: 20640\n",
      "\n",
      "    :Number of Attributes: 8 numeric, predictive attributes and the target\n",
      "\n",
      "    :Attribute Information:\n",
      "        - MedInc        median income in block\n",
      "        - HouseAge      median house age in block\n",
      "        - AveRooms      average number of rooms\n",
      "        - AveBedrms     average number of bedrooms\n",
      "        - Population    block population\n",
      "        - AveOccup      average house occupancy\n",
      "        - Latitude      house block latitude\n",
      "        - Longitude     house block longitude\n",
      "\n",
      "    :Missing Attribute Values: None\n",
      "\n",
      "This dataset was obtained from the StatLib repository.\n",
      "http://lib.stat.cmu.edu/datasets/\n",
      "\n",
      "The target variable is the median house value for California districts.\n",
      "\n",
      "This dataset was derived from the 1990 U.S. census, using one row per census\n",
      "block group. A block group is the smallest geographical unit for which the U.S.\n",
      "Census Bureau publishes sample data (a block group typically has a population\n",
      "of 600 to 3,000 people).\n",
      "\n",
      "It can be downloaded/loaded using the\n",
      ":func:`sklearn.datasets.fetch_california_housing` function.\n",
      "\n",
      ".. topic:: References\n",
      "\n",
      "    - Pace, R. Kelley and Ronald Barry, Sparse Spatial Autoregressions,\n",
      "      Statistics and Probability Letters, 33 (1997) 291-297\n",
      "\n"
     ]
    }
   ],
   "source": [
    "import numpy as np\n",
    "import sklearn\n",
    "import statistics as stat\n",
    "from sklearn.cluster import KMeans\n",
    "from sklearn.cluster import AgglomerativeClustering\n",
    "from sklearn.metrics import silhouette_score\n",
    "from sklearn.datasets.samples_generator import make_blobs\n",
    "import matplotlib as mpl\n",
    "import matplotlib.pyplot as plt\n",
    "from matplotlib.colors import ListedColormap\n",
    "\n",
    "np.random.seed(11)  \n",
    "\n",
    "# conjunto de datos de las viviendas en California\n",
    "# .data, .target, .feature_names, .DESCR\n",
    "cali = sklearn.datasets.fetch_california_housing()\n",
    "\n",
    "# descripcion del conjunto\n",
    "print(cali.DESCR)\n"
   ]
  },
  {
   "cell_type": "markdown",
   "metadata": {},
   "source": [
    "Por cada conjunto de datos que utilices deberás incluir una breve descripción del mismo\n",
    "    - Nombre del conjunto de datos\n",
    "    - Breve descripción del problema que describe\n",
    "    - Nombre y tipo de las variables\n",
    "    - Estadísticos descriptivos de cada variable\n",
    "\n",
    "1) Describe el conjunto de datos tal y como se indica más arriba y extrae algunas conclusiones de las variables, su distribución y su correlación\n",
    "   \n",
    "    - Nombre del conjunto de datos\n",
    "        California Housing Dataset\n",
    "        \n",
    "    - Breve descripción del problema que describe\n",
    "        Representar bloques de zonas habitables en California de 1990. Un bloque tiene entre 600 y 3.000 personas.\n",
    "\n",
    "    - Nombre y tipo de las variables\n",
    "        Proporciona los siguientes datos :\n",
    "            MedInc    \n",
    "            HouseAge  \n",
    "            AveRooms  \n",
    "            AveBedrms \n",
    "            Population\n",
    "            AveOccup  \n",
    "            Latitude  \n",
    "            Longitude \n",
    "         \n",
    "        todas las variables son de tipo numpy.float64\n",
    "        \n",
    "    - Estadísticos descriptivos de cada variable\n",
    "        MedInc     \t\tmediana de los ingresos del bloque\n",
    "        HouseAge  \t\tmediana de las edades de las casas del bloque\n",
    "        AveRooms  \t\tnúmero medio de habitaciones\n",
    "        AveBedrms \t\tnúmero medio de dormitorios\n",
    "        Population \t\tpoblación del bloque\n",
    "        AveOccup   \t\tmedia de residentes por vivienda\n",
    "        Latitude   \t\tlatitud del bloque\n",
    "        Longitude\t\tlongitud del bloque\n",
    "        \n",
    "        MedInc : promedio: 37.19233650793651\n",
    "        HouseAge : promedio: 294.40765742530755\n",
    "        AveRooms : promedio: 60.3789052259887\n",
    "        AveBedrms : promedio: 67.58518202054795\n",
    "        Population : promedio: 68.2488251930502\n",
    "        AveOccup : promedio: 49.08024766839378\n",
    "        Latitude : promedio: 134.15759664396887\n",
    "        Longitude : promedio: 141.91970054095827\n",
    "        \n",
    "        MedInc : mediana: 7.654663492063492\n",
    "        HouseAge : mediana: 7.269768541300527\n",
    "        AveRooms : mediana: 7.77276779661017\n",
    "        AveBedrms : mediana: 5.7302257990867576\n",
    "        Population : mediana: 5.064026640926641\n",
    "        AveOccup : mediana: 4.399229015544042\n",
    "        Latitude : mediana: 4.2955033073929965\n",
    "        Longitude : mediana: 3.9587635239567236\n",
    "        \n",
    "        MedInc : desviación típica: 125.81140884875056\n",
    "        HouseAge : desviación típica: 852.5859304471638\n",
    "        AveRooms : desviación típica: 183.6381187178246\n",
    "        AveBedrms : desviación típica: 204.93098490132294\n",
    "        Population : desviación típica: 207.40011377204837\n",
    "        AveOccup : desviación típica: 156.0331858478623\n",
    "        Latitude : desviación típica: 391.32996492058425\n",
    "        Longitude : desviación típica: 413.458823804565\n",
    "        \n",
    "        MedInc : varianza: 15828.51059650747\n",
    "        HouseAge : varianza: 726902.768796456\n",
    "        AveRooms : varianza: 33722.95864622184\n",
    "        AveBedrms : varianza: 41996.70857262625\n",
    "        Population : varianza: 43014.807192658605\n",
    "        AveOccup : varianza: 24346.355085833544\n",
    "        Latitude : varianza: 153139.14144474568\n",
    "        Longitude : varianza: 170948.1989818543\n",
    "        \n"
   ]
  },
  {
   "cell_type": "code",
   "execution_count": 117,
   "metadata": {
    "scrolled": true
   },
   "outputs": [
    {
     "name": "stdout",
     "output_type": "stream",
     "text": [
      "68.2488251930502\n",
      "207.40011377204837\n",
      "43014.807192658605\n"
     ]
    }
   ],
   "source": []
  },
  {
   "cell_type": "markdown",
   "metadata": {},
   "source": [
    "2) Considera si debes re‐escalar las variables antes y el tipo de escalado que usas. Razona tu elección. "
   ]
  },
  {
   "cell_type": "code",
   "execution_count": 133,
   "metadata": {},
   "outputs": [
    {
     "name": "stdout",
     "output_type": "stream",
     "text": [
      "1425.4767441860465\n",
      "3.070655159436382\n",
      "3.0706551594363742\n"
     ]
    }
   ],
   "source": [
    "X = []\n",
    "pop = 0\n",
    "kel = 0\n",
    "for i in range(0, len(cali.data)):\n",
    "    pop = pop + cali.data[i][4]\n",
    "    kel = kel + cali.data[i][5]\n",
    "    X.append(cali.data[i][5])\n",
    "pop = pop / len(cali.data)\n",
    "kel = kel / len(cali.data)\n",
    "print(pop)\n",
    "print(kel)\n",
    "\n",
    "print(stat.mean(X))\n",
    "  \n",
    "comparar plots para decidir 2)"
   ]
  },
  {
   "cell_type": "code",
   "execution_count": 58,
   "metadata": {},
   "outputs": [],
   "source": [
    "def plot_clusters(X, labels=None, centers=None):\n",
    "    \"\"\" Función auxiliar para pintar los puntos de los clusters y, optativamente, sus centros.\n",
    "    :param X: array de puntos de dos dimensiones (array de array de enteros)\n",
    "    :param labels: cluster al que pertenece cada punto (array de enteros)\n",
    "    :param centers: coordenadas de los centroides de los clusters (array de array de enteros)\n",
    "    \"\"\"\n",
    "    \n",
    "    colors = ['r','g','b','c','y','k','w','m',]\n",
    "    fig = plt.figure(figsize=(8,8))\n",
    "    \n",
    "    # Los dos primeros parámetros de la función scatter son las coordenadas de los puntos,\n",
    "    # el parámetro 'c' indica la clase asignada de cada punto, y 'cmap' se usa para colorear \n",
    "    # las distintas clases\n",
    "    plt.scatter(X[:,0], X[:,1], c=labels, cmap=ListedColormap(colors))\n",
    "    \n",
    "    # Pintar los centroides de los clusters\n",
    "    if centers is not None:\n",
    "        plt.scatter(centers[:,0], centers[:,1], marker=\"x\", color='k', s=150, linewidths = 5, zorder=10)\n",
    "    plt.show()\n",
    "\n",
    "    \n",
    "# Crear una instancia del agrupador k-means\n",
    "km = KMeans(init='random', n_clusters=3)\n",
    "\n",
    "# Agrupar los puntos en clusters\n",
    "km.fit(X)\n",
    "\n",
    "# Podemos consultar el cluster asignado a cada punto y el centro de cada cluster\n",
    "labels = km.labels_\n",
    "centers = km.cluster_centers_\n",
    "\n",
    "plot_clusters(X, labels, centers)"
   ]
  },
  {
   "cell_type": "code",
   "execution_count": 59,
   "metadata": {},
   "outputs": [
    {
     "ename": "NameError",
     "evalue": "name 'labels' is not defined",
     "output_type": "error",
     "traceback": [
      "\u001b[1;31m---------------------------------------------------------------------------\u001b[0m",
      "\u001b[1;31mNameError\u001b[0m                                 Traceback (most recent call last)",
      "\u001b[1;32m<ipython-input-59-ac7b594255a9>\u001b[0m in \u001b[0;36m<module>\u001b[1;34m\u001b[0m\n\u001b[1;32m----> 1\u001b[1;33m \u001b[0mplot_clusters\u001b[0m\u001b[1;33m(\u001b[0m\u001b[0mcali\u001b[0m\u001b[1;33m.\u001b[0m\u001b[0mdata\u001b[0m\u001b[1;33m[\u001b[0m\u001b[1;33m:\u001b[0m\u001b[1;33m]\u001b[0m\u001b[1;33m[\u001b[0m\u001b[1;36m5\u001b[0m\u001b[1;33m]\u001b[0m\u001b[1;33m,\u001b[0m \u001b[0mlabels\u001b[0m\u001b[1;33m)\u001b[0m\u001b[1;33m\u001b[0m\u001b[1;33m\u001b[0m\u001b[0m\n\u001b[0m",
      "\u001b[1;31mNameError\u001b[0m: name 'labels' is not defined"
     ]
    }
   ],
   "source": [
    "plot_clusters(cali.data[:][5], labels)"
   ]
  },
  {
   "cell_type": "markdown",
   "metadata": {},
   "source": [
    "3) Aplica el algoritmo de clustering k‐medias y determina el número de clusters que consideras adecuado para el conjunto de datos, justificando tu elección."
   ]
  },
  {
   "cell_type": "markdown",
   "metadata": {},
   "source": [
    "4) Trata de averiguar qué representa cada uno de los clusters que has obtenido. Si en el apartado anterior has obtenido más de 5 clusters, basta con que comentes los dos más numerosos y los dos menos numerosos. ¿Qué valores toman las variables en cada cluster? Puedes usar estadísticos descriptivos Te recomendamos que uses las variables en su escala original y no en la transformada (ya que se interpretará mucho peor)."
   ]
  },
  {
   "cell_type": "markdown",
   "metadata": {},
   "source": [
    "5) Pinta los clusters en un gráfico de dispersión en función de dos de las variables de entrada que consideres interesantes. ¿Ves que considerando solamente esas dos variables se diferencien bien algunos de los clusters? ¿Cuáles? Por el contrario, ¿cuáles se confuden más?  Te recomendamos que en este caso uses las variables tal y como las usaste para hacer el clustering (es decir, re‐escaladas, si las re‐escalastes) para así diferenciar los clusters mejor "
   ]
  }
 ],
 "metadata": {
  "kernelspec": {
   "display_name": "Python 3",
   "language": "python",
   "name": "python3"
  },
  "language_info": {
   "codemirror_mode": {
    "name": "ipython",
    "version": 3
   },
   "file_extension": ".py",
   "mimetype": "text/x-python",
   "name": "python",
   "nbconvert_exporter": "python",
   "pygments_lexer": "ipython3",
   "version": "3.7.1"
  }
 },
 "nbformat": 4,
 "nbformat_minor": 2
}
